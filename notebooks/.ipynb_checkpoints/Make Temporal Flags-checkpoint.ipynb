{
 "cells": [
  {
   "cell_type": "code",
   "execution_count": 1,
   "metadata": {},
   "outputs": [],
   "source": [
    "import os\n",
    "import numpy as np\n",
    "import networkx as nx\n",
    "import pandas as pd\n",
    "import h5py"
   ]
  },
  {
   "cell_type": "code",
   "execution_count": 2,
   "metadata": {},
   "outputs": [],
   "source": [
    "def write_weightless_flag_file(g, output_file, data=False):\n",
    "    zeros = np.zeros(len(g.nodes()), dtype=int)\n",
    "    d = {k: v for v, k in enumerate(list(g.nodes()))}\n",
    "    with open(output_file, 'w') as f:\n",
    "        f.write('dim 0')\n",
    "        f.write('\\n')\n",
    "        f.write(' '.join(map(str, zeros)))\n",
    "        f.write('\\n')\n",
    "        f.write('dim 1')\n",
    "        f.write('\\n')\n",
    "        if data:\n",
    "            for e in g.edges(data=True):\n",
    "                f.write('{} {} {}'.format(str(d[e[0]]), str(d[e[1]]), str(e[2]['weight'])))\n",
    "                f.write('\\n')\n",
    "        else:\n",
    "            for e in g.edges(data=False):\n",
    "                f.write('{} {} {}'.format(str(d[e[0]]), str(d[e[1]]), '0'))\n",
    "                f.write('\\n')\n",
    "                \n",
    "def write_hdf5(g, output_file):\n",
    "    h5f = h5py.File(output_file, 'w')\n",
    "    try:\n",
    "        x = nx.to_scipy_sparse_matrix(g)\n",
    "        h5f.create_dataset('adjacency', shape=x.shape)\n",
    "        rows,cols = x.nonzero()\n",
    "        h5f[rows,cols] = x[rows,cols]\n",
    "    except Exception:\n",
    "        h5f.close()"
   ]
  },
  {
   "cell_type": "code",
   "execution_count": 3,
   "metadata": {},
   "outputs": [],
   "source": [
    "collab_data_loc = '/home/gebhart/projects/rfunklab/data/temporal/1_1/collaboration'\n",
    "knowl_data_loc = '/home/gebhart/projects/rfunklab/data/temporal/1_1/knowledge'"
   ]
  },
  {
   "cell_type": "code",
   "execution_count": 4,
   "metadata": {},
   "outputs": [],
   "source": [
    "p = collab_data_loc"
   ]
  },
  {
   "cell_type": "code",
   "execution_count": null,
   "metadata": {
    "scrolled": true
   },
   "outputs": [],
   "source": [
    "\n",
    "fs = [f for f in os.listdir(p) if os.path.isfile(os.path.join(p, f))]\n",
    "fs.sort()\n",
    "\n",
    "for f in fs:\n",
    "    g = nx.Graph()\n",
    "    print('{}'.format(f))\n",
    "    df = pd.read_csv(os.path.join(p, f), header=0)\n",
    "    for idx, row in df.iterrows():\n",
    "        g.add_edge(row['inventor_id_a'], row['inventor_id_b'], weight=row['patents'])\n",
    "#         g.add_edge(row['subgroup_id_a'], row['subgroup_id_b'], weight=row['patents'])\n",
    "    write_weightless_flag_file(g, os.path.join(p, 'flag', '{}.flag'.format(f.replace('.csv',''))), data=True)"
   ]
  },
  {
   "cell_type": "code",
   "execution_count": null,
   "metadata": {},
   "outputs": [],
   "source": []
  },
  {
   "cell_type": "code",
   "execution_count": 5,
   "metadata": {},
   "outputs": [],
   "source": [
    "df = pd.read_csv(os.path.join(p, '1995.csv'), header=0)"
   ]
  },
  {
   "cell_type": "code",
   "execution_count": 6,
   "metadata": {},
   "outputs": [],
   "source": [
    "g = nx.Graph()\n",
    "for idx, row in df.iterrows():\n",
    "    g.add_edge(row['inventor_id_a'], row['inventor_id_b'], weight=row['patents'])"
   ]
  },
  {
   "cell_type": "code",
   "execution_count": 7,
   "metadata": {},
   "outputs": [],
   "source": [
    "write_hdf5(g,os.path.join(p, 'h5', '{}.h5'.format('1995')))"
   ]
  },
  {
   "cell_type": "code",
   "execution_count": 8,
   "metadata": {},
   "outputs": [],
   "source": [
    "f = h5py.File(os.path.join(p, 'h5', '{}.h5'.format('1995')),'r')"
   ]
  },
  {
   "cell_type": "code",
   "execution_count": 17,
   "metadata": {},
   "outputs": [
    {
     "data": {
      "text/plain": [
       "0.0"
      ]
     },
     "execution_count": 17,
     "metadata": {},
     "output_type": "execute_result"
    }
   ],
   "source": [
    "f['adjacency'][0,6]"
   ]
  },
  {
   "cell_type": "code",
   "execution_count": 12,
   "metadata": {},
   "outputs": [],
   "source": [
    "x = nx.to_scipy_sparse_matrix(g)"
   ]
  },
  {
   "cell_type": "code",
   "execution_count": 18,
   "metadata": {},
   "outputs": [],
   "source": [
    "rows,cols = x.nonzero()"
   ]
  },
  {
   "cell_type": "code",
   "execution_count": 25,
   "metadata": {},
   "outputs": [
    {
     "data": {
      "text/plain": [
       "array(0)"
      ]
     },
     "execution_count": 25,
     "metadata": {},
     "output_type": "execute_result"
    }
   ],
   "source": [
    "x[rows[1],cols[2]]"
   ]
  },
  {
   "cell_type": "raw",
   "metadata": {},
   "source": []
  }
 ],
 "metadata": {
  "kernelspec": {
   "display_name": "Python 3",
   "language": "python",
   "name": "python3"
  },
  "language_info": {
   "codemirror_mode": {
    "name": "ipython",
    "version": 3
   },
   "file_extension": ".py",
   "mimetype": "text/x-python",
   "name": "python",
   "nbconvert_exporter": "python",
   "pygments_lexer": "ipython3",
   "version": "3.7.1"
  }
 },
 "nbformat": 4,
 "nbformat_minor": 2
}
