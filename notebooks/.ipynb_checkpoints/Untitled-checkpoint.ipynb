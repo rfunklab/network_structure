{
 "cells": [
  {
   "cell_type": "code",
   "execution_count": 1,
   "metadata": {},
   "outputs": [],
   "source": [
    "import os\n",
    "import numpy as np\n",
    "import networkx as nx\n",
    "import pandas as pd"
   ]
  },
  {
   "cell_type": "code",
   "execution_count": 2,
   "metadata": {},
   "outputs": [],
   "source": [
    "collab_data_loc = '/home/gebhart/projects/rfunklab/data/temporal/1_1/collaboration'\n",
    "knowl_data_loc = '/home/gebhart/projects/rfunklab/data/temporal/1_1/knowledge'"
   ]
  },
  {
   "cell_type": "code",
   "execution_count": 3,
   "metadata": {},
   "outputs": [],
   "source": [
    "collab_graph = nx.Graph()\n",
    "knowl_graph = nx.Graph()"
   ]
  },
  {
   "cell_type": "code",
   "execution_count": 4,
   "metadata": {},
   "outputs": [],
   "source": [
    "# collab_df = pd.read_csv(os.path.join(data_loc, 'collaboration_edges.csv'), header=0)\n",
    "knowl_df = pd.read_csv(os.path.join(data_loc, 'knowledge_edges.csv'), header=0)"
   ]
  },
  {
   "cell_type": "code",
   "execution_count": 5,
   "metadata": {},
   "outputs": [],
   "source": [
    "# for idx, row in collab_df.iterrows():\n",
    "#     if idx > upto:\n",
    "#         break\n",
    "#     collab_graph.add_edge(row['inventor_id_a'], row['inventor_id_b'], weight=row['patents'])\n",
    "\n",
    "for idx, row in knowl_df.iterrows():\n",
    "    if idx > upto:\n",
    "        break\n",
    "    knowl_graph.add_edge(row['subgroup_id_a'], row['subgroup_id_b'], weight=row['patents'])"
   ]
  },
  {
   "cell_type": "code",
   "execution_count": null,
   "metadata": {},
   "outputs": [],
   "source": []
  },
  {
   "cell_type": "code",
   "execution_count": 6,
   "metadata": {},
   "outputs": [],
   "source": [
    "def write_weightless_flag_file(g, output_file, data=False):\n",
    "    zeros = np.zeros(len(g.nodes()), dtype=int)\n",
    "    d = {k: v for v, k in enumerate(list(g.nodes()))}\n",
    "    with open(output_file, 'w') as f:\n",
    "        f.write('dim 0')\n",
    "        f.write('\\n')\n",
    "        f.write(' '.join(map(str, zeros)))\n",
    "        f.write('\\n')\n",
    "        f.write('dim 1')\n",
    "        f.write('\\n')\n",
    "        if data:\n",
    "            for e in g.edges(data=True):\n",
    "                f.write('{} {} {}'.format(str(d[e[0]]), str(d[e[1]]), str(e[2]['weight'])))\n",
    "                f.write('\\n')\n",
    "        else:\n",
    "            for e in g.edges(data=False):\n",
    "                f.write('{} {} {}'.format(str(d[e[0]]), str(d[e[1]]), '0'))\n",
    "                f.write('\\n')"
   ]
  },
  {
   "cell_type": "code",
   "execution_count": 7,
   "metadata": {},
   "outputs": [],
   "source": [
    "# write_weightless_flag_file(collab_graph, os.path.join(data_loc, 'collaboration_graph_{}.flag'.format(upto)), data=True)\n",
    "write_weightless_flag_file(knowl_graph, os.path.join(data_loc, 'knowledge_graph_{}.flag'.format(upto)), data=True)\n",
    "# write_weightless_flag_file(tg, os.path.join(data_loc, 'd3-allzero.flag'))"
   ]
  },
  {
   "cell_type": "code",
   "execution_count": null,
   "metadata": {},
   "outputs": [],
   "source": []
  }
 ],
 "metadata": {
  "kernelspec": {
   "display_name": "Python 3",
   "language": "python",
   "name": "python3"
  },
  "language_info": {
   "codemirror_mode": {
    "name": "ipython",
    "version": 3
   },
   "file_extension": ".py",
   "mimetype": "text/x-python",
   "name": "python",
   "nbconvert_exporter": "python",
   "pygments_lexer": "ipython3",
   "version": "3.7.1"
  }
 },
 "nbformat": 4,
 "nbformat_minor": 2
}
