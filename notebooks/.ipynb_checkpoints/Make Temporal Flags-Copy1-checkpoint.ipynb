{
 "cells": [
  {
   "cell_type": "code",
   "execution_count": 1,
   "metadata": {},
   "outputs": [],
   "source": [
    "import os\n",
    "import numpy as np\n",
    "import networkx as nx\n",
    "import pandas as pd"
   ]
  },
  {
   "cell_type": "code",
   "execution_count": 2,
   "metadata": {},
   "outputs": [],
   "source": [
    "def write_weightless_flag_file(g, output_file, data=False):\n",
    "    zeros = np.zeros(len(g.nodes()), dtype=int)\n",
    "    d = {k: v for v, k in enumerate(list(g.nodes()))}\n",
    "    with open(output_file, 'w') as f:\n",
    "        f.write('dim 0')\n",
    "        f.write('\\n')\n",
    "        f.write(' '.join(map(str, zeros)))\n",
    "        f.write('\\n')\n",
    "        f.write('dim 1')\n",
    "        f.write('\\n')\n",
    "        if data:\n",
    "            for e in g.edges(data=True):\n",
    "                f.write('{} {} {}'.format(str(d[e[0]]), str(d[e[1]]), str(e[2]['weight'])))\n",
    "                f.write('\\n')\n",
    "        else:\n",
    "            for e in g.edges(data=False):\n",
    "                f.write('{} {} {}'.format(str(d[e[0]]), str(d[e[1]]), '0'))\n",
    "                f.write('\\n')"
   ]
  },
  {
   "cell_type": "code",
   "execution_count": 3,
   "metadata": {},
   "outputs": [],
   "source": [
    "collab_data_loc = '/home/gebhart/projects/rfunklab/data/temporal/1_1/collaboration'\n",
    "knowl_data_loc = '/home/gebhart/projects/rfunklab/data/temporal/1_1/knowledge'"
   ]
  },
  {
   "cell_type": "code",
   "execution_count": 4,
   "metadata": {},
   "outputs": [],
   "source": [
    "p = collab_data_loc"
   ]
  },
  {
   "cell_type": "code",
   "execution_count": null,
   "metadata": {
    "scrolled": true
   },
   "outputs": [
    {
     "name": "stdout",
     "output_type": "stream",
     "text": [
      "1975.csv\n",
      "1977.csv\n",
      "1979.csv\n",
      "1983.csv\n",
      "1984.csv\n",
      "1985.csv\n",
      "1986.csv\n",
      "1987.csv\n",
      "1988.csv\n",
      "1991.csv\n",
      "1993.csv\n",
      "1997.csv\n",
      "1998.csv\n",
      "1999.csv\n",
      "2001.csv\n",
      "2002.csv\n",
      "2003.csv\n",
      "2004.csv\n",
      "2006.csv\n"
     ]
    }
   ],
   "source": [
    "\n",
    "fs = [f for f in os.listdir(p) if os.path.isfile(os.path.join(p, f))]\n",
    "fs.sort()\n",
    "tfs = [f.replace('.flag', '.csv') for f in os.listdir(os.path.join(p,'flag')) if os.path.isfile(os.path.join(p,'flag', f))]\n",
    "g = nx.Graph()\n",
    "\n",
    "for f in fs:\n",
    "    if f not in tfs:\n",
    "        print('{}'.format(f))\n",
    "        df = pd.read_csv(os.path.join(p, f), header=0)\n",
    "        for idx, row in df.iterrows():\n",
    "            g.add_edge(row['inventor_id_a'], row['inventor_id_b'], weight=row['patents'])\n",
    "    #         g.add_edge(row['subgroup_id_a'], row['subgroup_id_b'], weight=row['patents'])\n",
    "        write_weightless_flag_file(g, os.path.join(p, 'flag', '{}.flag'.format(f.replace('.csv',''))), data=True)"
   ]
  },
  {
   "cell_type": "code",
   "execution_count": null,
   "metadata": {},
   "outputs": [],
   "source": []
  },
  {
   "cell_type": "code",
   "execution_count": null,
   "metadata": {},
   "outputs": [],
   "source": []
  },
  {
   "cell_type": "code",
   "execution_count": null,
   "metadata": {},
   "outputs": [],
   "source": []
  },
  {
   "cell_type": "code",
   "execution_count": null,
   "metadata": {},
   "outputs": [],
   "source": []
  },
  {
   "cell_type": "code",
   "execution_count": null,
   "metadata": {},
   "outputs": [],
   "source": []
  }
 ],
 "metadata": {
  "kernelspec": {
   "display_name": "Python 3",
   "language": "python",
   "name": "python3"
  },
  "language_info": {
   "codemirror_mode": {
    "name": "ipython",
    "version": 3
   },
   "file_extension": ".py",
   "mimetype": "text/x-python",
   "name": "python",
   "nbconvert_exporter": "python",
   "pygments_lexer": "ipython3",
   "version": "3.7.1"
  }
 },
 "nbformat": 4,
 "nbformat_minor": 2
}
