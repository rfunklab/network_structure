{
 "cells": [
  {
   "cell_type": "code",
   "execution_count": 1,
   "metadata": {},
   "outputs": [],
   "source": [
    "import os\n",
    "import numpy as np\n",
    "import networkx as nx\n",
    "import pandas as pd\n",
    "from ripser import ripser\n",
    "import matplotlib.pyplot as plt"
   ]
  },
  {
   "cell_type": "code",
   "execution_count": 2,
   "metadata": {},
   "outputs": [],
   "source": [
    "upto = 10000\n",
    "data_loc = '/home/gebhart/projects/rfunklab/data/patents_20190722'"
   ]
  },
  {
   "cell_type": "code",
   "execution_count": 3,
   "metadata": {},
   "outputs": [],
   "source": [
    "collab_graph = nx.Graph()\n",
    "knowl_graph = nx.Graph()"
   ]
  },
  {
   "cell_type": "code",
   "execution_count": 15,
   "metadata": {},
   "outputs": [
    {
     "data": {
      "text/html": [
       "<div>\n",
       "<style scoped>\n",
       "    .dataframe tbody tr th:only-of-type {\n",
       "        vertical-align: middle;\n",
       "    }\n",
       "\n",
       "    .dataframe tbody tr th {\n",
       "        vertical-align: top;\n",
       "    }\n",
       "\n",
       "    .dataframe thead th {\n",
       "        text-align: right;\n",
       "    }\n",
       "</style>\n",
       "<table border=\"1\" class=\"dataframe\">\n",
       "  <thead>\n",
       "    <tr style=\"text-align: right;\">\n",
       "      <th></th>\n",
       "      <th>subgroup_id_a</th>\n",
       "      <th>subgroup_id_b</th>\n",
       "      <th>patents</th>\n",
       "    </tr>\n",
       "  </thead>\n",
       "  <tbody>\n",
       "    <tr>\n",
       "      <th>0</th>\n",
       "      <td>A01B1/065</td>\n",
       "      <td>A01B1/16</td>\n",
       "      <td>1</td>\n",
       "    </tr>\n",
       "    <tr>\n",
       "      <th>1</th>\n",
       "      <td>A01B1/065</td>\n",
       "      <td>A01B1/243</td>\n",
       "      <td>1</td>\n",
       "    </tr>\n",
       "    <tr>\n",
       "      <th>2</th>\n",
       "      <td>A01B1/065</td>\n",
       "      <td>A01D34/135</td>\n",
       "      <td>1</td>\n",
       "    </tr>\n",
       "    <tr>\n",
       "      <th>3</th>\n",
       "      <td>A01B1/065</td>\n",
       "      <td>A01G3/067</td>\n",
       "      <td>1</td>\n",
       "    </tr>\n",
       "    <tr>\n",
       "      <th>4</th>\n",
       "      <td>A01B1/16</td>\n",
       "      <td>A01B1/20</td>\n",
       "      <td>1</td>\n",
       "    </tr>\n",
       "  </tbody>\n",
       "</table>\n",
       "</div>"
      ],
      "text/plain": [
       "  subgroup_id_a subgroup_id_b  patents\n",
       "0     A01B1/065      A01B1/16        1\n",
       "1     A01B1/065     A01B1/243        1\n",
       "2     A01B1/065    A01D34/135        1\n",
       "3     A01B1/065     A01G3/067        1\n",
       "4      A01B1/16      A01B1/20        1"
      ]
     },
     "execution_count": 15,
     "metadata": {},
     "output_type": "execute_result"
    }
   ],
   "source": [
    "collab_df = pd.read_csv(os.path.join(data_loc, 'collaboration_edges.csv'), header=0)\n",
    "knowl_df = pd.read_csv(os.path.join(data_loc, 'knowledge_edges.csv'), header=0)"
   ]
  },
  {
   "cell_type": "code",
   "execution_count": 5,
   "metadata": {},
   "outputs": [],
   "source": [
    "for idx, row in collab_df.iterrows():\n",
    "    if idx >= upto:\n",
    "        break\n",
    "    collab_graph.add_edge(row['inventor_id_a'], row['inventor_id_b'], weight=row['patents'])"
   ]
  },
  {
   "cell_type": "code",
   "execution_count": 6,
   "metadata": {},
   "outputs": [],
   "source": [
    "# for idx, row in knowl_df.iterrows():\n",
    "#     knowl_graph.add_edge(row['subgroup_id_a'], row['subgroup_id_b'])"
   ]
  },
  {
   "cell_type": "code",
   "execution_count": 7,
   "metadata": {},
   "outputs": [
    {
     "data": {
      "text/plain": [
       "10001"
      ]
     },
     "execution_count": 7,
     "metadata": {},
     "output_type": "execute_result"
    }
   ],
   "source": [
    "len(collab_graph.edges())"
   ]
  },
  {
   "cell_type": "code",
   "execution_count": 8,
   "metadata": {},
   "outputs": [],
   "source": [
    "# len(knowl_graph.edges())"
   ]
  },
  {
   "cell_type": "code",
   "execution_count": 9,
   "metadata": {},
   "outputs": [
    {
     "data": {
      "text/plain": [
       "9852"
      ]
     },
     "execution_count": 9,
     "metadata": {},
     "output_type": "execute_result"
    }
   ],
   "source": [
    "len(collab_graph.nodes())"
   ]
  },
  {
   "cell_type": "code",
   "execution_count": 10,
   "metadata": {},
   "outputs": [],
   "source": [
    "cgm = nx.to_scipy_sparse_matrix(collab_graph)"
   ]
  },
  {
   "cell_type": "code",
   "execution_count": 11,
   "metadata": {},
   "outputs": [],
   "source": [
    "rips = ripser(cgm, distance_matrix=True)"
   ]
  },
  {
   "cell_type": "code",
   "execution_count": 12,
   "metadata": {},
   "outputs": [
    {
     "data": {
      "text/plain": [
       "{'dgms': [array([[ 0.,  1.],\n",
       "         [ 0.,  1.],\n",
       "         [ 0.,  1.],\n",
       "         ...,\n",
       "         [ 0., inf],\n",
       "         [ 0., inf],\n",
       "         [ 0., inf]]), array([[20., 32.],\n",
       "         [18., 19.],\n",
       "         [17., inf],\n",
       "         ...,\n",
       "         [ 1.,  3.],\n",
       "         [ 1.,  3.],\n",
       "         [ 1., inf]])],\n",
       " 'cocycles': [[], []],\n",
       " 'num_edges': 10001,\n",
       " 'dperm2all': <9852x9852 sparse matrix of type '<class 'numpy.int64'>'\n",
       " \twith 20002 stored elements in Compressed Sparse Row format>,\n",
       " 'idx_perm': array([   0,    1,    2, ..., 9849, 9850, 9851]),\n",
       " 'r_cover': 0.0}"
      ]
     },
     "execution_count": 12,
     "metadata": {},
     "output_type": "execute_result"
    }
   ],
   "source": [
    "rips"
   ]
  },
  {
   "cell_type": "code",
   "execution_count": 13,
   "metadata": {},
   "outputs": [],
   "source": [
    "def plot_diagram(diagram, title=''):\n",
    "    fig, ax = plt.subplots()\n",
    "    if diagram.size > 0:\n",
    "        d = diagram[~np.isinf(diagram[:,1])]\n",
    "        if d.shape[0] > 0:\n",
    "            ax.scatter(d[:,0], d[:,1], s=25, c=d[:,0]**2 - d[:,1], cmap=plt.cm.coolwarm, zorder=10)\n",
    "            lims = [\n",
    "                np.min(d[:,0]-1),  # min of both axes\n",
    "                np.max(d[:,1]+1),  # max of both axes\n",
    "            ]\n",
    "\n",
    "            # now plot both limits against eachother\n",
    "            ax.plot(lims, lims, 'k-', alpha=0.75, zorder=0)\n",
    "            ax.set_xlim(lims)\n",
    "            ax.set_ylim(lims)\n",
    "    ax.set_aspect('equal')\n",
    "    plt.xlabel('Birth')\n",
    "    plt.ylabel('Death')\n",
    "    plt.title(title)"
   ]
  },
  {
   "cell_type": "code",
   "execution_count": 14,
   "metadata": {},
   "outputs": [
    {
     "data": {
      "image/png": "[encoded data removed]",
      "text/plain": [
       "<Figure size 432x288 with 1 Axes>"
      ]
     },
     "metadata": {
      "needs_background": "light"
     },
     "output_type": "display_data"
    },
    {
     "data": {
      "image/png": "[encoded data removed]",
      "text/plain": [
       "<Figure size 432x288 with 1 Axes>"
      ]
     },
     "metadata": {
      "needs_background": "light"
     },
     "output_type": "display_data"
    }
   ],
   "source": [
    "for i in range(len(rips['dgms'])):\n",
    "    plot_diagram(rips['dgms'][i], title='Persistence Diagram Dimension {}'.format(i))"
   ]
  },
  {
   "cell_type": "code",
   "execution_count": null,
   "metadata": {},
   "outputs": [],
   "source": []
  }
 ],
 "metadata": {
  "kernelspec": {
   "display_name": "Python 3",
   "language": "python",
   "name": "python3"
  },
  "language_info": {
   "codemirror_mode": {
    "name": "ipython",
    "version": 3
   },
   "file_extension": ".py",
   "mimetype": "text/x-python",
   "name": "python",
   "nbconvert_exporter": "python",
   "pygments_lexer": "ipython3",
   "version": "3.7.1"
  }
 },
 "nbformat": 4,
 "nbformat_minor": 2
}
