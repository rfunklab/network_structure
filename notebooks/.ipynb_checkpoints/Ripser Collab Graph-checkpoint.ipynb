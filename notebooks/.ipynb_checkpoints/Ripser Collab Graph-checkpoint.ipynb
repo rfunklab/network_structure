{
 "cells": [
  {
   "cell_type": "code",
   "execution_count": 1,
   "metadata": {},
   "outputs": [],
   "source": [
    "import os\n",
    "import numpy as np\n",
    "import networkx as nx\n",
    "import pandas as pd"
   ]
  },
  {
   "cell_type": "code",
   "execution_count": 2,
   "metadata": {},
   "outputs": [],
   "source": [
    "data_loc = '/home/gebhart/projects/rfunklab/data/patents_20190715'"
   ]
  },
  {
   "cell_type": "code",
   "execution_count": 3,
   "metadata": {},
   "outputs": [],
   "source": [
    "collab_graph = nx.Graph()\n",
    "knowl_graph = nx.Graph()"
   ]
  },
  {
   "cell_type": "code",
   "execution_count": 4,
   "metadata": {},
   "outputs": [],
   "source": [
    "collab_df = pd.read_csv(os.path.join(data_loc, 'collaboration_edges.csv'), header=0)\n",
    "knowl_df = pd.read_csv(os.path.join(data_loc, 'knowledge_edges.csv'), header=0)"
   ]
  },
  {
   "cell_type": "code",
   "execution_count": 5,
   "metadata": {},
   "outputs": [],
   "source": [
    "for idx, row in collab_df.iterrows():\n",
    "    if idx > 100000:\n",
    "        break\n",
    "    collab_graph.add_edge(row['inventor_id_a'], row['inventor_id_b'])"
   ]
  },
  {
   "cell_type": "code",
   "execution_count": 6,
   "metadata": {},
   "outputs": [],
   "source": [
    "# for idx, row in knowl_df.iterrows():\n",
    "#     knowl_graph.add_edge(row['subgroup_id_a'], row['subgroup_id_b'])"
   ]
  },
  {
   "cell_type": "code",
   "execution_count": 7,
   "metadata": {},
   "outputs": [
    {
     "data": {
      "text/plain": [
       "70001"
      ]
     },
     "execution_count": 7,
     "metadata": {},
     "output_type": "execute_result"
    }
   ],
   "source": [
    "len(collab_graph.edges())"
   ]
  },
  {
   "cell_type": "code",
   "execution_count": 8,
   "metadata": {},
   "outputs": [],
   "source": [
    "# tg = nx.DiGraph()\n",
    "# tg.add_edge('a', 'b')\n",
    "# tg.add_edge('b', 'a')\n",
    "# tg.add_edge('a', 'c')\n",
    "# tg.add_edge('c', 'a')\n",
    "# tg.add_edge('b', 'c')\n",
    "# tg.add_edge('c', 'b')"
   ]
  },
  {
   "cell_type": "code",
   "execution_count": 9,
   "metadata": {},
   "outputs": [],
   "source": [
    "# len(knowl_graph.edges())"
   ]
  },
  {
   "cell_type": "code",
   "execution_count": 10,
   "metadata": {},
   "outputs": [
    {
     "data": {
      "text/plain": [
       "52471"
      ]
     },
     "execution_count": 10,
     "metadata": {},
     "output_type": "execute_result"
    }
   ],
   "source": [
    "len(collab_graph.nodes())"
   ]
  },
  {
   "cell_type": "code",
   "execution_count": 11,
   "metadata": {},
   "outputs": [],
   "source": [
    "def write_weightless_flag_file(g, output_file, data=False):\n",
    "    zeros = np.zeros(len(g.nodes()), dtype=int)\n",
    "    d = {k: v for v, k in enumerate(list(g.nodes()))}\n",
    "    with open(output_file, 'w') as f:\n",
    "        f.write('dim 0')\n",
    "        f.write('\\n')\n",
    "        f.write(' '.join(map(str, zeros)))\n",
    "        f.write('\\n')\n",
    "        f.write('dim 1')\n",
    "        f.write('\\n')\n",
    "        if data:\n",
    "            for e in g.edges(data=True):\n",
    "                f.write('{} {} {}'.format(str(d[e[0]]), str(d[e[1]]), str(e[2])))\n",
    "                f.write('\\n')\n",
    "        else:\n",
    "            for e in g.edges(data=False):\n",
    "                f.write('{} {} {}'.format(str(d[e[0]]), str(d[e[1]]), '0'))\n",
    "                f.write('\\n')"
   ]
  },
  {
   "cell_type": "code",
   "execution_count": 12,
   "metadata": {},
   "outputs": [],
   "source": [
    "write_weightless_flag_file(collab_graph, os.path.join(data_loc, 'collaboration_graph.flag'))\n",
    "# write_weightless_flag_file(tg, os.path.join(data_loc, 'd3-allzero.flag'))"
   ]
  },
  {
   "cell_type": "code",
   "execution_count": null,
   "metadata": {},
   "outputs": [],
   "source": []
  }
 ],
 "metadata": {
  "kernelspec": {
   "display_name": "Python 3",
   "language": "python",
   "name": "python3"
  },
  "language_info": {
   "codemirror_mode": {
    "name": "ipython",
    "version": 3
   },
   "file_extension": ".py",
   "mimetype": "text/x-python",
   "name": "python",
   "nbconvert_exporter": "python",
   "pygments_lexer": "ipython3",
   "version": "3.7.1"
  }
 },
 "nbformat": 4,
 "nbformat_minor": 2
}
