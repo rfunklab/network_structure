{
 "cells": [
  {
   "cell_type": "code",
   "execution_count": 2,
   "metadata": {},
   "outputs": [],
   "source": [
    "import os\n",
    "os.chdir('/home/gebhart/projects/rfunklab/network_structure')\n",
    "import numpy as np\n",
    "import networkx as nx\n",
    "import matplotlib.pyplot as plt\n",
    "import pandas as pd\n",
    "from ast import literal_eval as make_tuple\n",
    "from network_structure.homology_parser import *\n",
    "import persim"
   ]
  },
  {
   "cell_type": "code",
   "execution_count": 3,
   "metadata": {},
   "outputs": [],
   "source": [
    "graph_type = 'knowledge'\n",
    "collab_data_loc = '/home/gebhart/projects/rfunklab/data/temporal/aps/1_1/collaboration/homology'\n",
    "knowl_data_loc = '/home/gebhart/projects/rfunklab/data/temporal/aps/1_1/knowledge/homology'"
   ]
  },
  {
   "cell_type": "code",
   "execution_count": 4,
   "metadata": {},
   "outputs": [],
   "source": [
    "def interval_to_numpy(interval):\n",
    "    if len(interval) > 1:\n",
    "        return np.array([list(ival) if len(ival) > 1 else [ival[0],np.inf] for ival in interval])            \n",
    "    return np.array([])"
   ]
  },
  {
   "cell_type": "code",
   "execution_count": 5,
   "metadata": {},
   "outputs": [],
   "source": [
    "def plot_diagram(diagram, title='', lims=None):\n",
    "    fig, ax = plt.subplots()\n",
    "    if diagram.size > 0:\n",
    "        d = diagram[~np.isinf(diagram[:,1])]\n",
    "        if d.shape[0] > 0:\n",
    "            ax.scatter(d[:,0], d[:,1], s=25, c=d[:,1]**2 - d[:,0], cmap=plt.cm.coolwarm, zorder=10)\n",
    "            if lims is None:\n",
    "                lims = [\n",
    "                    np.min(d[:,0]-1),  # min of both axes\n",
    "                    np.max(d[:,1]+1),  # max of both axes\n",
    "                ]\n",
    "\n",
    "            # now plot both limits against eachother\n",
    "            ax.plot(lims, lims, 'k-', alpha=0.75, zorder=0)\n",
    "            ax.set_xlim(lims)\n",
    "            ax.set_ylim(lims)\n",
    "    ax.set_aspect('equal')\n",
    "    plt.xlabel('Birth')\n",
    "    plt.ylabel('Death')\n",
    "    plt.title(title)"
   ]
  },
  {
   "cell_type": "code",
   "execution_count": 7,
   "metadata": {},
   "outputs": [],
   "source": [
    "files = [f for f in os.listdir(knowl_data_loc) if os.path.isfile(os.path.join(knowl_data_loc, f))]\n",
    "files.sort()"
   ]
  },
  {
   "cell_type": "code",
   "execution_count": null,
   "metadata": {
    "scrolled": false
   },
   "outputs": [],
   "source": [
    "doi = 1\n",
    "npints = []\n",
    "names = []\n",
    "bettis = []\n",
    "cell_counts = []\n",
    "for file in files:\n",
    "    yr = file[:4]\n",
    "    print(yr)\n",
    "    try:\n",
    "        knowl_intervals = parse_intervals(os.path.join(knowl_data_loc, file))\n",
    "        knowl_bettis = parse_betti(os.path.join(knowl_data_loc,file))\n",
    "        knowl_cell_counts = parse_cell_counts(os.path.join(knowl_data_loc,file))\n",
    "    except IndexError:\n",
    "        continue\n",
    "    names.append(yr)\n",
    "    print('Betti Numbers: ', knowl_bettis)\n",
    "    print('Cell Counts: ', knowl_cell_counts)\n",
    "    bettis.append(knowl_bettis)\n",
    "    cell_counts.append(knowl_cell_counts)\n",
    "    ints = []\n",
    "    for i in range(len(knowl_intervals)):\n",
    "        knowl_npint = interval_to_numpy(knowl_intervals[i])\n",
    "        ints.append(knowl_npint)\n",
    "        if i == doi:\n",
    "            if knowl_npint.size > 0:\n",
    "                plot_diagram(knowl_npint, title='{} Knowledge Dimension {}'.format(yr, i))\n",
    "            plt.show()\n",
    "    npints.append(ints)\n",
    "    "
   ]
  },
  {
   "cell_type": "code",
   "execution_count": null,
   "metadata": {},
   "outputs": [],
   "source": []
  },
  {
   "cell_type": "code",
   "execution_count": null,
   "metadata": {},
   "outputs": [],
   "source": []
  },
  {
   "cell_type": "code",
   "execution_count": null,
   "metadata": {},
   "outputs": [],
   "source": [
    "doi = 1\n",
    "diags = []\n",
    "for i in range(len(npints)):\n",
    "    npint = npints[i]\n",
    "    if len(npint) > doi:\n",
    "        npdoi = npint[doi]\n",
    "        diags.append(npdoi)\n",
    "    else:\n",
    "        diags.append(np.array([]))"
   ]
  },
  {
   "cell_type": "code",
   "execution_count": null,
   "metadata": {},
   "outputs": [],
   "source": [
    "yr_ref = 8\n",
    "bottlenecks = []\n",
    "wassersteins = []\n",
    "heats = []\n",
    "for i in range(yr_ref,len(diags)):\n",
    "    print('{}/{}'.format(i,len(diags)))\n",
    "    if diags[i].size > 0:\n",
    "        diags[i][diags[i] == np.inf] = 50\n",
    "        bottlenecks.append(persim.bottleneck(diags[yr_ref], diags[i]))\n",
    "        wassersteins.append(persim.sliced_wasserstein(diags[yr_ref], diags[i]))\n",
    "#         heats.append(persim.heat(diags[yr_ref], diags[i]))\n",
    "    else:\n",
    "        bottlenecks.append(-1)\n",
    "        wassersteins.append(-1)\n",
    "#         heats.append(-1)"
   ]
  },
  {
   "cell_type": "code",
   "execution_count": null,
   "metadata": {},
   "outputs": [],
   "source": [
    "plt.plot(names[yr_ref:], bottlenecks)\n",
    "plt.xticks(rotation=60)\n",
    "plt.ylabel('Bottleneck Distance')\n",
    "plt.xlabel('Year')\n",
    "plt.title('Bottleneck Distance ({} Reference)'.format(names[yr_ref]))"
   ]
  },
  {
   "cell_type": "code",
   "execution_count": null,
   "metadata": {},
   "outputs": [],
   "source": [
    "plt.plot(names[yr_ref:], wassersteins)\n",
    "plt.xticks(rotation=60)\n",
    "plt.ylabel('Wasserstein Distance')\n",
    "plt.xlabel('Year')\n",
    "plt.title('Wasserstein Distance ({} Reference)'.format(names[yr_ref]))"
   ]
  },
  {
   "cell_type": "code",
   "execution_count": null,
   "metadata": {},
   "outputs": [],
   "source": [
    "# plt.plot(names[yr_ref:], heats)\n",
    "# plt.xticks(rotation=60)\n",
    "# plt.ylabel('Heat Kernel Distance')\n",
    "# plt.xlabel('Year')\n",
    "# plt.title('Heat Kernel Distance ({} Reference)'.format(names[yr_ref]))"
   ]
  },
  {
   "cell_type": "code",
   "execution_count": null,
   "metadata": {},
   "outputs": [],
   "source": []
  },
  {
   "cell_type": "code",
   "execution_count": null,
   "metadata": {},
   "outputs": [],
   "source": [
    "for d in range(4):\n",
    "    plt.plot(names, [b[d] for b in bettis])\n",
    "    plt.xticks(rotation=60)\n",
    "    plt.ylabel('Betti_{}'.format(d))\n",
    "    plt.xlabel('Year')\n",
    "    plt.title('Betti Number Dimension {}'.format(d))\n",
    "    plt.show()"
   ]
  },
  {
   "cell_type": "code",
   "execution_count": null,
   "metadata": {
    "scrolled": false
   },
   "outputs": [],
   "source": [
    "for d in range(9):\n",
    "    plt.plot(names, [c[d] for c in cell_counts])\n",
    "    plt.xticks(rotation=60)\n",
    "    plt.ylabel('Cell Count'.format(d))\n",
    "    plt.xlabel('Year')\n",
    "    plt.title('Cell Count Dimension {}'.format(d))\n",
    "    plt.show()"
   ]
  },
  {
   "cell_type": "code",
   "execution_count": null,
   "metadata": {},
   "outputs": [],
   "source": [
    "# for file in files[:1]:\n",
    "#     yr = file[:4]\n",
    "#     print(yr)\n",
    "    \n",
    "#     collab_intervals = parse_intervals(os.path.join(collab_data_loc, file))\n",
    "#     collab_bettis = parse_betti(os.path.join(collab_data_loc,file))\n",
    "#     collab_cell_counts = parse_cell_counts(os.path.join(collab_data_loc,file))\n",
    "#     collab_euler_characteristic = parse_euler_characteristic(os.path.join(collab_data_loc,file))\n",
    "    \n",
    "#     knowl_intervals = parse_intervals(os.path.join(knowl_data_loc, file))\n",
    "#     knowl_bettis = parse_betti(os.path.join(knowl_data_loc,file))\n",
    "#     knowl_cell_counts = parse_cell_counts(os.path.join(knowl_data_loc,file))\n",
    "#     knowl_euler_characteristic = parse_euler_characteristic(os.path.join(knowl_data_loc,file))\n",
    "    \n",
    "#     print(collab_bettis, knowl_bettis)\n",
    "#     print(collab_cell_counts, knowl_cell_counts)\n",
    "    \n",
    "#     for i in range(min(len(collab_intervals), len(knowl_intervals))):\n",
    "#         collab_npint = interval_to_numpy(collab_intervals[i])\n",
    "#         knowl_npint = interval_to_numpy(knowl_intervals[i])\n",
    "#         if collab_npint.size > 0:\n",
    "#             plot_diagram(collab_npint, title='{} Collaboration Persistence Diagram Dimension {}'.format(yr, i))\n",
    "#         if knowl_npint.size > 0:\n",
    "#             plot_diagram(knowl_npint, title='{} Knowledge Persistence Diagram Dimension {}'.format(yr, i))"
   ]
  },
  {
   "cell_type": "code",
   "execution_count": null,
   "metadata": {},
   "outputs": [],
   "source": [
    "# for i in range(len(collab_intervals)-1):\n",
    "#     print(persim.bottleneck(interval_to_numpy(collab_intervals[i]), interval_to_numpy(knowl_intervals[i])))"
   ]
  },
  {
   "cell_type": "code",
   "execution_count": null,
   "metadata": {},
   "outputs": [],
   "source": []
  },
  {
   "cell_type": "code",
   "execution_count": null,
   "metadata": {},
   "outputs": [],
   "source": []
  }
 ],
 "metadata": {
  "kernelspec": {
   "display_name": "Python 3",
   "language": "python",
   "name": "python3"
  },
  "language_info": {
   "codemirror_mode": {
    "name": "ipython",
    "version": 3
   },
   "file_extension": ".py",
   "mimetype": "text/x-python",
   "name": "python",
   "nbconvert_exporter": "python",
   "pygments_lexer": "ipython3",
   "version": "3.7.1"
  }
 },
 "nbformat": 4,
 "nbformat_minor": 2
}
