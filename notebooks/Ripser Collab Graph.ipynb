{
 "cells": [
  {
   "cell_type": "code",
   "execution_count": 1,
   "metadata": {},
   "outputs": [],
   "source": [
    "import os\n",
    "import numpy as np\n",
    "import networkx as nx\n",
    "import pandas as pd\n",
    "from ripser import ripser\n",
    "import matplotlib.pyplot as plt"
   ]
  },
  {
   "cell_type": "code",
   "execution_count": 2,
   "metadata": {},
   "outputs": [],
   "source": [
    "upto = -1\n",
    "year = '1978'\n",
    "data_loc = '/home/gebhart/projects/rfunklab/data/temporal/aps/1_1/collaboration/{}.csv'.format(year)"
   ]
  },
  {
   "cell_type": "code",
   "execution_count": 3,
   "metadata": {},
   "outputs": [],
   "source": [
    "collab_graph = nx.Graph()"
   ]
  },
  {
   "cell_type": "code",
   "execution_count": 4,
   "metadata": {},
   "outputs": [],
   "source": [
    "collab_df = pd.read_csv(data_loc, header=0)"
   ]
  },
  {
   "cell_type": "code",
   "execution_count": 5,
   "metadata": {},
   "outputs": [
    {
     "data": {
      "text/plain": [
       "(42519, 3)"
      ]
     },
     "execution_count": 5,
     "metadata": {},
     "output_type": "execute_result"
    }
   ],
   "source": [
    "collab_df.shape"
   ]
  },
  {
   "cell_type": "code",
   "execution_count": 6,
   "metadata": {},
   "outputs": [],
   "source": [
    "for idx, row in collab_df.iterrows():\n",
    "    collab_graph.add_edge(row['author_id_a'], row['author_id_b'], weight=row['papers'])"
   ]
  },
  {
   "cell_type": "code",
   "execution_count": 7,
   "metadata": {},
   "outputs": [
    {
     "data": {
      "text/plain": [
       "16769"
      ]
     },
     "execution_count": 7,
     "metadata": {},
     "output_type": "execute_result"
    }
   ],
   "source": [
    "len(collab_graph.nodes())"
   ]
  },
  {
   "cell_type": "code",
   "execution_count": 8,
   "metadata": {},
   "outputs": [],
   "source": [
    "cgm = nx.to_scipy_sparse_matrix(collab_graph)"
   ]
  },
  {
   "cell_type": "code",
   "execution_count": 9,
   "metadata": {},
   "outputs": [],
   "source": [
    "rips = ripser(cgm, distance_matrix=True, maxdim=5)"
   ]
  },
  {
   "cell_type": "code",
   "execution_count": 10,
   "metadata": {},
   "outputs": [
    {
     "data": {
      "text/plain": [
       "{'dgms': [array([[ 0.,  1.],\n",
       "         [ 0.,  1.],\n",
       "         [ 0.,  1.],\n",
       "         ...,\n",
       "         [ 0., inf],\n",
       "         [ 0., inf],\n",
       "         [ 0., inf]]), array([[3., 4.],\n",
       "         [3., 4.],\n",
       "         [3., 4.],\n",
       "         ...,\n",
       "         [1., 2.],\n",
       "         [1., 2.],\n",
       "         [1., 4.]]), array([[ 5., 10.],\n",
       "         [ 4.,  5.],\n",
       "         [ 4.,  5.],\n",
       "         [ 4.,  6.],\n",
       "         [ 4.,  6.],\n",
       "         [ 4.,  5.],\n",
       "         [ 4.,  5.],\n",
       "         [ 3.,  4.],\n",
       "         [ 3.,  6.],\n",
       "         [ 3.,  4.],\n",
       "         [ 3.,  4.],\n",
       "         [ 3.,  4.],\n",
       "         [ 3.,  5.],\n",
       "         [ 3.,  5.],\n",
       "         [ 3.,  5.],\n",
       "         [ 3.,  5.],\n",
       "         [ 3.,  5.],\n",
       "         [ 3.,  5.],\n",
       "         [ 3.,  5.],\n",
       "         [ 3.,  5.],\n",
       "         [ 3.,  5.],\n",
       "         [ 3.,  5.],\n",
       "         [ 3.,  5.],\n",
       "         [ 3.,  5.],\n",
       "         [ 3.,  5.],\n",
       "         [ 3.,  5.],\n",
       "         [ 3.,  5.],\n",
       "         [ 3.,  5.],\n",
       "         [ 3.,  5.],\n",
       "         [ 3.,  5.],\n",
       "         [ 3.,  5.],\n",
       "         [ 3.,  5.],\n",
       "         [ 3.,  5.],\n",
       "         [ 3.,  5.],\n",
       "         [ 3.,  5.],\n",
       "         [ 3.,  5.],\n",
       "         [ 3.,  5.],\n",
       "         [ 3.,  5.],\n",
       "         [ 3.,  5.],\n",
       "         [ 3.,  5.],\n",
       "         [ 3.,  5.],\n",
       "         [ 3.,  5.],\n",
       "         [ 3.,  4.],\n",
       "         [ 3.,  4.],\n",
       "         [ 3.,  4.],\n",
       "         [ 3.,  4.],\n",
       "         [ 2.,  3.],\n",
       "         [ 2.,  3.],\n",
       "         [ 2.,  3.],\n",
       "         [ 2.,  3.],\n",
       "         [ 2.,  3.],\n",
       "         [ 2.,  3.],\n",
       "         [ 2.,  3.],\n",
       "         [ 2.,  3.],\n",
       "         [ 2.,  3.],\n",
       "         [ 2.,  3.],\n",
       "         [ 2.,  3.],\n",
       "         [ 2.,  3.],\n",
       "         [ 2.,  4.],\n",
       "         [ 2.,  5.],\n",
       "         [ 2.,  5.],\n",
       "         [ 2.,  5.],\n",
       "         [ 2.,  5.],\n",
       "         [ 2.,  4.],\n",
       "         [ 2.,  3.],\n",
       "         [ 2.,  3.],\n",
       "         [ 2.,  3.],\n",
       "         [ 2.,  3.],\n",
       "         [ 2.,  3.],\n",
       "         [ 2.,  3.],\n",
       "         [ 2.,  3.],\n",
       "         [ 2.,  3.],\n",
       "         [ 2.,  3.],\n",
       "         [ 2.,  3.],\n",
       "         [ 2.,  3.],\n",
       "         [ 2.,  3.],\n",
       "         [ 2.,  3.],\n",
       "         [ 2.,  3.],\n",
       "         [ 2.,  3.],\n",
       "         [ 2.,  3.],\n",
       "         [ 2.,  3.],\n",
       "         [ 2.,  3.],\n",
       "         [ 2.,  3.],\n",
       "         [ 2.,  3.],\n",
       "         [ 2.,  3.],\n",
       "         [ 2.,  3.],\n",
       "         [ 2.,  3.],\n",
       "         [ 2.,  3.],\n",
       "         [ 2.,  3.],\n",
       "         [ 2.,  3.],\n",
       "         [ 2.,  3.],\n",
       "         [ 2.,  3.],\n",
       "         [ 2.,  3.],\n",
       "         [ 2.,  3.],\n",
       "         [ 2.,  3.],\n",
       "         [ 2.,  3.],\n",
       "         [ 2.,  3.],\n",
       "         [ 2.,  3.],\n",
       "         [ 2.,  3.],\n",
       "         [ 2.,  7.],\n",
       "         [ 2.,  3.],\n",
       "         [ 2.,  3.],\n",
       "         [ 2.,  3.],\n",
       "         [ 2.,  3.],\n",
       "         [ 2.,  3.],\n",
       "         [ 1.,  2.],\n",
       "         [ 1.,  2.],\n",
       "         [ 1.,  2.],\n",
       "         [ 1.,  2.],\n",
       "         [ 1.,  2.],\n",
       "         [ 1.,  2.],\n",
       "         [ 1.,  2.],\n",
       "         [ 1.,  2.],\n",
       "         [ 1.,  2.],\n",
       "         [ 1.,  2.]]), array([[12., inf],\n",
       "         [12., inf],\n",
       "         [12., inf],\n",
       "         ...,\n",
       "         [ 1., inf],\n",
       "         [ 1., inf],\n",
       "         [ 1., inf]]), array([[11., inf],\n",
       "         [11., inf],\n",
       "         [11., inf],\n",
       "         ...,\n",
       "         [ 1., inf],\n",
       "         [ 1., inf],\n",
       "         [ 1., inf]]), array([], shape=(0, 2), dtype=float64)],\n",
       " 'cocycles': [[], [], [], [], [], []],\n",
       " 'num_edges': 42519,\n",
       " 'dperm2all': <16769x16769 sparse matrix of type '<class 'numpy.int64'>'\n",
       " \twith 85038 stored elements in Compressed Sparse Row format>,\n",
       " 'idx_perm': array([    0,     1,     2, ..., 16766, 16767, 16768]),\n",
       " 'r_cover': 0.0}"
      ]
     },
     "execution_count": 10,
     "metadata": {},
     "output_type": "execute_result"
    }
   ],
   "source": [
    "rips"
   ]
  },
  {
   "cell_type": "code",
   "execution_count": 16,
   "metadata": {},
   "outputs": [],
   "source": [
    "def plot_diagram(diagram, title=''):\n",
    "    fig, ax = plt.subplots()\n",
    "    if diagram.size > 0:\n",
    "        d = diagram[~np.isinf(diagram[:,1])]\n",
    "        print(d.shape)\n",
    "        if d.shape[0] > 0:\n",
    "            ax.scatter(d[:,0], d[:,1], s=25, c=d[:,0]**2 - d[:,1], cmap=plt.cm.coolwarm, zorder=10)\n",
    "            lims = [\n",
    "                np.min(d[:,0]-1),  # min of both axes\n",
    "                np.max(d[:,1]+1),  # max of both axes\n",
    "            ]\n",
    "\n",
    "            # now plot both limits against eachother\n",
    "            ax.plot(lims, lims, 'k-', alpha=0.75, zorder=0)\n",
    "            ax.set_xlim(lims)\n",
    "            ax.set_ylim(lims)\n",
    "    ax.set_aspect('equal')\n",
    "    plt.xlabel('Birth')\n",
    "    plt.ylabel('Death')\n",
    "    plt.title(title)"
   ]
  },
  {
   "cell_type": "code",
   "execution_count": 17,
   "metadata": {},
   "outputs": [
    {
     "name": "stdout",
     "output_type": "stream",
     "text": [
      "(12978, 2)\n",
      "(3016, 2)\n",
      "(115, 2)\n",
      "(0, 2)\n",
      "(0, 2)\n"
     ]
    },
    {
     "data": {
      "image/png": "[encoded data removed]",
      "text/plain": [
       "<Figure size 432x288 with 1 Axes>"
      ]
     },
     "metadata": {
      "needs_background": "light"
     },
     "output_type": "display_data"
    },
    {
     "data": {
      "image/png": "[encoded data removed]",
      "text/plain": [
       "<Figure size 432x288 with 1 Axes>"
      ]
     },
     "metadata": {
      "needs_background": "light"
     },
     "output_type": "display_data"
    },
    {
     "data": {
      "image/png": "[encoded data removed]",
      "text/plain": [
       "<Figure size 432x288 with 1 Axes>"
      ]
     },
     "metadata": {
      "needs_background": "light"
     },
     "output_type": "display_data"
    },
    {
     "data": {
      "image/png": "[encoded data removed]",
      "text/plain": [
       "<Figure size 432x288 with 1 Axes>"
      ]
     },
     "metadata": {
      "needs_background": "light"
     },
     "output_type": "display_data"
    },
    {
     "data": {
      "image/png": "[encoded data removed]",
      "text/plain": [
       "<Figure size 432x288 with 1 Axes>"
      ]
     },
     "metadata": {
      "needs_background": "light"
     },
     "output_type": "display_data"
    },
    {
     "data": {
      "image/png": "[encoded data removed]",
      "text/plain": [
       "<Figure size 432x288 with 1 Axes>"
      ]
     },
     "metadata": {
      "needs_background": "light"
     },
     "output_type": "display_data"
    }
   ],
   "source": [
    "for i in range(len(rips['dgms'])):\n",
    "    plot_diagram(rips['dgms'][i], title='Persistence Diagram Dimension {}'.format(i))"
   ]
  },
  {
   "cell_type": "code",
   "execution_count": 15,
   "metadata": {},
   "outputs": [
    {
     "name": "stdout",
     "output_type": "stream",
     "text": [
      "16769\n",
      "3469\n",
      "115\n",
      "12857\n",
      "218253\n",
      "0\n"
     ]
    }
   ],
   "source": [
    "for r in rips['dgms']:\n",
    "    print(r.shape[0])"
   ]
  },
  {
   "cell_type": "code",
   "execution_count": null,
   "metadata": {},
   "outputs": [],
   "source": []
  }
 ],
 "metadata": {
  "kernelspec": {
   "display_name": "Python 3",
   "language": "python",
   "name": "python3"
  },
  "language_info": {
   "codemirror_mode": {
    "name": "ipython",
    "version": 3
   },
   "file_extension": ".py",
   "mimetype": "text/x-python",
   "name": "python",
   "nbconvert_exporter": "python",
   "pygments_lexer": "ipython3",
   "version": "3.7.1"
  }
 },
 "nbformat": 4,
 "nbformat_minor": 2
}
