{
 "cells": [
  {
   "cell_type": "code",
   "execution_count": null,
   "metadata": {
    "scrolled": true
   },
   "outputs": [
    {
     "name": "stdout",
     "output_type": "stream",
     "text": [
      "1970.flag\n"
     ]
    }
   ],
   "source": [
    "import os\n",
    "import subprocess\n",
    "\n",
    "graph_type = 'knowledge'\n",
    "graph_loc = '/home/gebhart/projects/rfunklab/data/temporal/1_1/{}/flag'.format(graph_type)\n",
    "out_loc = '/home/gebhart/projects/rfunklab/data/temporal/1_1/{}/homology'.format(graph_type)\n",
    "\n",
    "fnames = [f for f in os.listdir(graph_loc) if os.path.isfile(os.path.join(graph_loc, f))]\n",
    "fnames.sort()\n",
    "for name in fnames:\n",
    "    print(name)\n",
    "    inf = os.path.join(graph_loc, name)\n",
    "    outf = os.path.join(out_loc, name.replace('flag', 'homology'))\n",
    "    print(subprocess.check_output([\"/home/gebhart/projects/flagser/flagser --undirected --filtration max --out {} {}\".format(outf, inf)], shell=True))"
   ]
  },
  {
   "cell_type": "code",
   "execution_count": null,
   "metadata": {},
   "outputs": [],
   "source": []
  }
 ],
 "metadata": {
  "kernelspec": {
   "display_name": "Python 3",
   "language": "python",
   "name": "python3"
  },
  "language_info": {
   "codemirror_mode": {
    "name": "ipython",
    "version": 3
   },
   "file_extension": ".py",
   "mimetype": "text/x-python",
   "name": "python",
   "nbconvert_exporter": "python",
   "pygments_lexer": "ipython3",
   "version": "3.7.1"
  }
 },
 "nbformat": 4,
 "nbformat_minor": 2
}
